{
 "cells": [
  {
   "cell_type": "code",
   "execution_count": 70,
   "id": "72fbbd37",
   "metadata": {},
   "outputs": [
    {
     "data": {
      "text/plain": [
       "-2"
      ]
     },
     "execution_count": 70,
     "metadata": {},
     "output_type": "execute_result"
    }
   ],
   "source": [
    "-7/3"
   ]
  },
  {
   "cell_type": "code",
   "execution_count": 112,
   "id": "fef0f1ac",
   "metadata": {},
   "outputs": [
    {
     "data": {
      "text/plain": [
       "'%.10f'"
      ]
     },
     "execution_count": 112,
     "metadata": {},
     "output_type": "execute_result"
    }
   ],
   "source": [
    "%precision 10"
   ]
  },
  {
   "cell_type": "code",
   "execution_count": 13,
   "id": "4b6392d4",
   "metadata": {},
   "outputs": [],
   "source": [
    "y  = 2000\n",
    "m =1\n",
    "d = 1"
   ]
  },
  {
   "cell_type": "code",
   "execution_count": 14,
   "id": "5a122bc0",
   "metadata": {},
   "outputs": [],
   "source": [
    "def J(y, m, d):\n",
    "    return 367*y - (7*(y+(m+9)/12))/4-(3*((y+(m-9)/7)/100 + 1))/4 + 275 * m/9 + d +1721029"
   ]
  },
  {
   "cell_type": "code",
   "execution_count": 74,
   "id": "30e184b4",
   "metadata": {},
   "outputs": [],
   "source": [
    "def G_JD(Y, M, D):\n",
    "    return (1461 *(Y + 4800 + (M - 14)/12))/4 +(367 * (M - 2 - 12 * ((M - 14)/12)))/12 - (3 * ((Y + 4900 + (M - 14)/12)/100))/4 + D - 32075"
   ]
  },
  {
   "cell_type": "code",
   "execution_count": 79,
   "id": "8e3b1567",
   "metadata": {},
   "outputs": [],
   "source": [
    "def J_JD(Y, M, D):\n",
    "    return 367 * Y - (7 * (Y + 5001 + (M - 9)//7))//4 + (275 * M)//9 + D + 1729777"
   ]
  },
  {
   "cell_type": "code",
   "execution_count": 86,
   "id": "6ff14700",
   "metadata": {},
   "outputs": [],
   "source": [
    "def J1(y, m, d):\n",
    "    a = np.floor((14-m)/12)\n",
    "    y = y + 4800 - a\n",
    "    m = m + 12*a -3\n",
    "    return d + np.floor((153*m+2)/5)+365*y + np.floor(y/4) - np.floor(y/100) + np.floor(y/400) - 32045"
   ]
  },
  {
   "cell_type": "code",
   "execution_count": 80,
   "id": "ad2e39a2",
   "metadata": {},
   "outputs": [
    {
     "data": {
      "text/plain": [
       "2451543"
      ]
     },
     "execution_count": 80,
     "metadata": {},
     "output_type": "execute_result"
    }
   ],
   "source": [
    "J(2000, 1, 1)"
   ]
  },
  {
   "cell_type": "code",
   "execution_count": 93,
   "id": "f08df97a",
   "metadata": {},
   "outputs": [
    {
     "data": {
      "text/plain": [
       "2415021.0"
      ]
     },
     "execution_count": 93,
     "metadata": {},
     "output_type": "execute_result"
    }
   ],
   "source": [
    "J1(1900, 1,1)"
   ]
  },
  {
   "cell_type": "code",
   "execution_count": 52,
   "id": "3f4a5037",
   "metadata": {},
   "outputs": [],
   "source": [
    "from  astropy.time import Time"
   ]
  },
  {
   "cell_type": "code",
   "execution_count": 102,
   "id": "c6eb5a70",
   "metadata": {
    "scrolled": true
   },
   "outputs": [
    {
     "data": {
      "text/plain": [
       "2451545.0"
      ]
     },
     "execution_count": 102,
     "metadata": {},
     "output_type": "execute_result"
    }
   ],
   "source": [
    "Time(time2).jd"
   ]
  },
  {
   "cell_type": "code",
   "execution_count": 108,
   "id": "2b8e2752",
   "metadata": {},
   "outputs": [],
   "source": [
    "from numpy import cos, sin\n",
    "def P(T):\n",
    "    p = np.zeros((3, 3))\n",
    "    ζ = np.deg2rad((2306.2181 * T + 0.30188 * T**2 + 0.017998 * T**3)/3600)\n",
    "    z = np.deg2rad((2306.2181 * T + 1.09468 * T**2 + 0.018203 * T**3)/3600)\n",
    "    θ = np.deg2rad((2004.3109 * T - 0.42665 * T**2- 0.041833 * T**3)/3600)\n",
    "    p[0, 0] = cos(z) * cos(θ) * cos(ζ) - sin(z) * sin(ζ)\n",
    "    p[0, 1] = -cos(z) * cos(θ) * sin(ζ) - sin(z) * cos(ζ)\n",
    "    p[0, 2] = -cos(z) * sin(θ)\n",
    "    p[1, 0] = sin(z) * cos(θ) * cos(ζ) + cos(z) * sin(ζ)\n",
    "    p[1, 1] = -sin(z) * cos(θ) * sin(ζ) + cos(z) * cos(ζ)\n",
    "    p[1, 2] = -sin(z) * sin(θ)\n",
    "    p[2, 0] = sin(θ) * cos(ζ)\n",
    "    p[2, 1] = -sin(θ) * sin(ζ)\n",
    "    p[2, 2] = cos(θ)\n",
    "    return p"
   ]
  },
  {
   "cell_type": "code",
   "execution_count": 110,
   "id": "416e46cf",
   "metadata": {},
   "outputs": [],
   "source": [
    "time1 = '1900-01-01T12:00'\n",
    "time2 = '2000-01-01T12:00'"
   ]
  },
  {
   "cell_type": "code",
   "execution_count": 113,
   "id": "2b78345b",
   "metadata": {},
   "outputs": [
    {
     "data": {
      "text/plain": [
       "array([[ 9.9970292724e-01,  2.2352124933e-02,  9.7180131021e-03],\n",
       "       [-2.2352125114e-02,  9.9975015414e-01, -1.0860658415e-04],\n",
       "       [-9.7180126848e-03, -1.0864392463e-04,  9.9995277310e-01]])"
      ]
     },
     "execution_count": 113,
     "metadata": {},
     "output_type": "execute_result"
    }
   ],
   "source": [
    "T = (Time(time1).jd - Time(time2).jd)/36525\n",
    "P(T)"
   ]
  },
  {
   "cell_type": "code",
   "execution_count": 114,
   "id": "d78b8e9f",
   "metadata": {},
   "outputs": [
    {
     "data": {
      "text/plain": [
       "array([[ 9.9970292724e-01, -2.2352125114e-02, -9.7180126848e-03],\n",
       "       [ 2.2352124933e-02,  9.9975015414e-01, -1.0864392463e-04],\n",
       "       [ 9.7180131021e-03, -1.0860658415e-04,  9.9995277310e-01]])"
      ]
     },
     "execution_count": 114,
     "metadata": {},
     "output_type": "execute_result"
    }
   ],
   "source": [
    "np.linalg.inv(_)"
   ]
  },
  {
   "cell_type": "code",
   "execution_count": 119,
   "id": "a02c8451",
   "metadata": {},
   "outputs": [],
   "source": [
    "δ0 = np.deg2rad(-(16 + 36/60 + 52/3600))\n",
    "α0 = np.deg2rad((6+40/60 + 41.3/3600)*15)\n",
    "p1 = np.array([cos(δ0) * cos(α0), cos(δ0) * sin(α0), sin(δ0)])[:, None]"
   ]
  },
  {
   "cell_type": "code",
   "execution_count": 123,
   "id": "46eec26a",
   "metadata": {},
   "outputs": [],
   "source": [
    "p0 = np.matmul(np.linalg.inv(P(T)), p1)"
   ]
  },
  {
   "cell_type": "code",
   "execution_count": 131,
   "id": "3164c681",
   "metadata": {},
   "outputs": [
    {
     "data": {
      "text/plain": [
       "array([101.289112044])"
      ]
     },
     "execution_count": 131,
     "metadata": {},
     "output_type": "execute_result"
    }
   ],
   "source": [
    "np.rad2deg(np.arccos(p0[0]/cos(np.arcsin(p0[-1]))))"
   ]
  },
  {
   "cell_type": "code",
   "execution_count": null,
   "id": "83f46209",
   "metadata": {},
   "outputs": [],
   "source": []
  }
 ],
 "metadata": {
  "kernelspec": {
   "display_name": "Python 3 (ipykernel)",
   "language": "python",
   "name": "python3"
  },
  "language_info": {
   "codemirror_mode": {
    "name": "ipython",
    "version": 3
   },
   "file_extension": ".py",
   "mimetype": "text/x-python",
   "name": "python",
   "nbconvert_exporter": "python",
   "pygments_lexer": "ipython3",
   "version": "3.9.7"
  }
 },
 "nbformat": 4,
 "nbformat_minor": 5
}
